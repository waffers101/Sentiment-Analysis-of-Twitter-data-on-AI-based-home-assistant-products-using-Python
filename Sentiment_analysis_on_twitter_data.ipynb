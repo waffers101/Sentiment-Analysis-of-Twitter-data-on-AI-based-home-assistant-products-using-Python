{
  "nbformat": 4,
  "nbformat_minor": 0,
  "metadata": {
    "colab": {
      "name": "Sentiment analysis on twitter data.ipynb",
      "provenance": [],
      "collapsed_sections": [],
      "include_colab_link": true
    },
    "kernelspec": {
      "name": "python3",
      "display_name": "Python 3"
    },
    "language_info": {
      "name": "python"
    }
  },
  "cells": [
    {
      "cell_type": "markdown",
      "metadata": {
        "id": "view-in-github",
        "colab_type": "text"
      },
      "source": [
        "<a href=\"https://colab.research.google.com/github/waffers101/Sentiment-Analysis-of-Twitter-data-on-AI-based-home-assistant-products-using-Python/blob/main/Sentiment_analysis_on_twitter_data.ipynb\" target=\"_parent\"><img src=\"https://colab.research.google.com/assets/colab-badge.svg\" alt=\"Open In Colab\"/></a>"
      ]
    },
    {
      "cell_type": "markdown",
      "source": [
        "# ****Sentiment Analysis of Twitter Data on AI Based Home Assistant Products using Python****\n",
        "\n",
        "## Sentiment Analysis\n",
        "\n",
        "Sentiment analysis (or opinion mining) is a natural language processing (NLP) technique used to determine whether data is positive, negative or neutral. Sentiment analysis is often performed on textual data to help businesses monitor brand and product sentiment in customer feedback, and understand customer needs.\n",
        "\n",
        "## AI Based Home Assitant Products\n",
        "\n",
        "AI assistant or AI virtual assistant or digital assistant is a program that understands voice commands. It utilizes Natural language processing to understand and perform tasks given by users in natural language. Companies are working on replacing every human task with a machine through automation.\n",
        "\n",
        "##VADER\n",
        "VADER (Valence Aware Dictionary and Sentiment Reasoner) is a lexicon and rule-based sentiment analysis tool that is specifically attuned to sentiments expressed in social media. IT uses a combination of A sentiment lexicon is a list of lexical features (e.g., words) which are generally labeled according to their semantic orientation as either positive or negative. \n",
        "\n",
        "VADER not only tells about the Positivity and Negativity score but also tells us about how positive or negative a sentiment is."
      ],
      "metadata": {
        "id": "dnRtLpCgja5R"
      }
    },
    {
      "cell_type": "code",
      "execution_count": null,
      "metadata": {
        "id": "LZRibbmJNsSO"
      },
      "outputs": [],
      "source": [
        "#importing required packages\n",
        "import pandas as pd\n",
        "import matplotlib.pyplot as plt\n",
        "import re\n",
        "import random\n",
        "import numpy as np\n",
        "import collections"
      ]
    },
    {
      "cell_type": "code",
      "source": [
        "#Making Dataframe from the tweets generated files \n",
        "#these files were collected byy livestreaming data for two weeks from twitter using tweepy library\n",
        "df1 = pd.read_json('tweets2.json')\n",
        "df2 = pd.read_json('tweets1.json')\n",
        "df3 = pd.read_json('tweets3.json')\n",
        "df4 = pd.read_json('tweets4.json')\n",
        "df5 = pd.read_json('tweets5.json')\n",
        "df6 = pd.read_json('tweets6.json')\n",
        "df7 = pd.read_json('tweets7.json')\n",
        "df8 = pd.read_json('tweets8.json')\n",
        "df9 = pd.read_json('tweets9.json')\n",
        "df10 = pd.read_json('tweets10.json')\n",
        "df11 = pd.read_json('tweets11.json')\n",
        "df12 = pd.read_json('tweets12.json')\n",
        "df13 = pd.read_json('tweets13.json')\n",
        "df14 = pd.read_json('tweets14.json')\n",
        "df15 = pd.read_json('tweets15.json')\n",
        "df16 = pd.read_json('tweets16.json')"
      ],
      "metadata": {
        "id": "aHlYWGWrP0k7"
      },
      "execution_count": null,
      "outputs": []
    },
    {
      "cell_type": "code",
      "source": [
        "# concatenating the datasets into one\n",
        "Final_Data = pd.concat([df1, df2, df3,df4, df5, df6,df7, df8, df9,df10, df11, df12,df13, df14, df15, df16])\n",
        "print(Final_Data)\n",
        "#Final_Data.info()"
      ],
      "metadata": {
        "colab": {
          "base_uri": "https://localhost:8080/"
        },
        "id": "s_SIsD4DQ3CL",
        "outputId": "d229546b-5e17-4ef2-8a36-d3b911591be5"
      },
      "execution_count": null,
      "outputs": [
        {
          "output_type": "stream",
          "name": "stdout",
          "text": [
            "                   created_at                   id               id_str  \\\n",
            "0   2022-04-04 04:50:39+00:00  1510842258504892417  1510842258504892416   \n",
            "1   2022-04-04 04:50:40+00:00  1510842264968654850  1510842264968654848   \n",
            "2   2022-04-04 04:50:42+00:00  1510842270584807428  1510842270584807424   \n",
            "3   2022-04-04 04:50:42+00:00  1510842272060870656  1510842272060870656   \n",
            "4   2022-04-04 04:50:43+00:00  1510842274778804226  1510842274778804224   \n",
            "..                        ...                  ...                  ...   \n",
            "253 2022-04-10 05:12:16+00:00  1513022025421533184  1513022025421533184   \n",
            "254 2022-04-10 05:12:16+00:00  1513022025786277888  1513022025786277888   \n",
            "255 2022-04-10 05:12:17+00:00  1513022031629103104  1513022031629103104   \n",
            "256 2022-04-10 05:12:21+00:00  1513022047408082944  1513022047408082944   \n",
            "257 2022-04-10 05:12:26+00:00  1513022068954173444  1513022068954173440   \n",
            "\n",
            "                                                  text  \\\n",
            "0    RT @jeo_ferocious: Alexa’s new IG story 🤍\\n\\n@...   \n",
            "1    RT @LopezYhume: @alexailacad @kdlexunitedINTL ...   \n",
            "2    RT @famouslinesofc: Dear bashers, \\n\\nGanito k...   \n",
            "3    RT @cheddyismygrace: \"Being evicted with you w...   \n",
            "4    RT @AbangPendekar: Dulu, siri Sony Ericsson Wa...   \n",
            "..                                                 ...   \n",
            "253          RT @eopesca: alexa, desligar sentimentos.   \n",
            "254  RT @kdlexurs: I SAY TRUE ALEXA 😚 https://t.co/...   \n",
            "255  #Nowplaying  on Affinity Radio Van Halen - Why...   \n",
            "256          RT @eopesca: alexa, desligar sentimentos.   \n",
            "257  RT @rodolforoque: Chorão e Marcelo D2 fazendo ...   \n",
            "\n",
            "                                                source  truncated  \\\n",
            "0    <a href=\"http://twitter.com/download/iphone\" r...      False   \n",
            "1    <a href=\"http://twitter.com/download/android\" ...      False   \n",
            "2    <a href=\"http://twitter.com/download/iphone\" r...      False   \n",
            "3    <a href=\"http://twitter.com/download/android\" ...      False   \n",
            "4    <a href=\"http://twitter.com/download/iphone\" r...      False   \n",
            "..                                                 ...        ...   \n",
            "253  <a href=\"http://twitter.com/download/iphone\" r...      False   \n",
            "254  <a href=\"http://twitter.com/download/android\" ...      False   \n",
            "255  <a href=\"https://radio.co\" rel=\"nofollow\">Radi...       True   \n",
            "256  <a href=\"http://twitter.com/download/iphone\" r...      False   \n",
            "257  <a href=\"https://mobile.twitter.com\" rel=\"nofo...      False   \n",
            "\n",
            "     in_reply_to_status_id  in_reply_to_status_id_str  in_reply_to_user_id  \\\n",
            "0                      NaN                        NaN                  NaN   \n",
            "1                      NaN                        NaN                  NaN   \n",
            "2                      NaN                        NaN                  NaN   \n",
            "3                      NaN                        NaN                  NaN   \n",
            "4                      NaN                        NaN                  NaN   \n",
            "..                     ...                        ...                  ...   \n",
            "253                    NaN                        NaN                  NaN   \n",
            "254                    NaN                        NaN                  NaN   \n",
            "255                    NaN                        NaN                  NaN   \n",
            "256                    NaN                        NaN                  NaN   \n",
            "257                    NaN                        NaN                  NaN   \n",
            "\n",
            "     in_reply_to_user_id_str  ... possibly_sensitive filter_level lang  \\\n",
            "0                        NaN  ...                0.0          low   en   \n",
            "1                        NaN  ...                NaN          low   en   \n",
            "2                        NaN  ...                NaN          low   tl   \n",
            "3                        NaN  ...                NaN          low   en   \n",
            "4                        NaN  ...                NaN          low   in   \n",
            "..                       ...  ...                ...          ...  ...   \n",
            "253                      NaN  ...                NaN          low   pt   \n",
            "254                      NaN  ...                0.0          low   en   \n",
            "255                      NaN  ...                0.0          low   en   \n",
            "256                      NaN  ...                NaN          low   pt   \n",
            "257                      NaN  ...                0.0          low   pt   \n",
            "\n",
            "               timestamp_ms quoted_status_id  quoted_status_id_str  \\\n",
            "0   2022-04-04 04:50:39.176              NaN                   NaN   \n",
            "1   2022-04-04 04:50:40.717              NaN                   NaN   \n",
            "2   2022-04-04 04:50:42.056              NaN                   NaN   \n",
            "3   2022-04-04 04:50:42.408              NaN                   NaN   \n",
            "4   2022-04-04 04:50:43.056              NaN                   NaN   \n",
            "..                      ...              ...                   ...   \n",
            "253 2022-04-10 05:12:16.107              NaN                   NaN   \n",
            "254 2022-04-10 05:12:16.194              NaN                   NaN   \n",
            "255 2022-04-10 05:12:17.587              NaN                   NaN   \n",
            "256 2022-04-10 05:12:21.349              NaN                   NaN   \n",
            "257 2022-04-10 05:12:26.486              NaN                   NaN   \n",
            "\n",
            "    quoted_status  quoted_status_permalink  \\\n",
            "0             NaN                      NaN   \n",
            "1             NaN                      NaN   \n",
            "2             NaN                      NaN   \n",
            "3             NaN                      NaN   \n",
            "4             NaN                      NaN   \n",
            "..            ...                      ...   \n",
            "253           NaN                      NaN   \n",
            "254           NaN                      NaN   \n",
            "255           NaN                      NaN   \n",
            "256           NaN                      NaN   \n",
            "257           NaN                      NaN   \n",
            "\n",
            "                                        extended_tweet  display_text_range  \n",
            "0                                                  NaN                 NaN  \n",
            "1                                                  NaN                 NaN  \n",
            "2                                                  NaN                 NaN  \n",
            "3                                                  NaN                 NaN  \n",
            "4                                                  NaN                 NaN  \n",
            "..                                                 ...                 ...  \n",
            "253                                                NaN                 NaN  \n",
            "254                                                NaN                 NaN  \n",
            "255  {'full_text': '#Nowplaying  on Affinity Radio ...                 NaN  \n",
            "256                                                NaN                 NaN  \n",
            "257                                                NaN                 NaN  \n",
            "\n",
            "[21065 rows x 36 columns]\n"
          ]
        }
      ]
    },
    {
      "cell_type": "code",
      "source": [
        "# Appending The two columns named text and extended_tweet in a new column named tweets_text\n",
        "Final_Data = pd.concat([Final_Data, Final_Data[\"extended_tweet\"].apply(pd.Series)], axis=1)\n",
        "Final_Data[\"tweets_text\"] = Final_Data[\"text\"] + \" \" + Final_Data['full_text'].astype(str)\n",
        "\n",
        "# examining the size and columns of the new dataset created\n",
        "Final_Data.info()\n"
      ],
      "metadata": {
        "colab": {
          "base_uri": "https://localhost:8080/"
        },
        "id": "4ct-TUNDQ6rB",
        "outputId": "53204d21-86d5-4a20-fa99-527f15201e89"
      },
      "execution_count": null,
      "outputs": [
        {
          "output_type": "stream",
          "name": "stdout",
          "text": [
            "<class 'pandas.core.frame.DataFrame'>\n",
            "Int64Index: 21065 entries, 0 to 257\n",
            "Data columns (total 42 columns):\n",
            " #   Column                     Non-Null Count  Dtype              \n",
            "---  ------                     --------------  -----              \n",
            " 0   created_at                 21065 non-null  datetime64[ns, UTC]\n",
            " 1   id                         21065 non-null  int64              \n",
            " 2   id_str                     21065 non-null  int64              \n",
            " 3   text                       21065 non-null  object             \n",
            " 4   source                     21065 non-null  object             \n",
            " 5   truncated                  21065 non-null  bool               \n",
            " 6   in_reply_to_status_id      2751 non-null   float64            \n",
            " 7   in_reply_to_status_id_str  2751 non-null   float64            \n",
            " 8   in_reply_to_user_id        2928 non-null   float64            \n",
            " 9   in_reply_to_user_id_str    2928 non-null   float64            \n",
            " 10  in_reply_to_screen_name    2928 non-null   object             \n",
            " 11  user                       21065 non-null  object             \n",
            " 12  geo                        9 non-null      object             \n",
            " 13  coordinates                9 non-null      object             \n",
            " 14  place                      156 non-null    object             \n",
            " 15  contributors               0 non-null      float64            \n",
            " 16  retweeted_status           11008 non-null  object             \n",
            " 17  is_quote_status            21065 non-null  bool               \n",
            " 18  quote_count                21065 non-null  int64              \n",
            " 19  reply_count                21065 non-null  int64              \n",
            " 20  retweet_count              21065 non-null  int64              \n",
            " 21  favorite_count             21065 non-null  int64              \n",
            " 22  entities                   21065 non-null  object             \n",
            " 23  extended_entities          3962 non-null   object             \n",
            " 24  favorited                  21065 non-null  bool               \n",
            " 25  retweeted                  21065 non-null  bool               \n",
            " 26  possibly_sensitive         7310 non-null   float64            \n",
            " 27  filter_level               21065 non-null  object             \n",
            " 28  lang                       21065 non-null  object             \n",
            " 29  timestamp_ms               21065 non-null  datetime64[ns]     \n",
            " 30  quoted_status_id           2526 non-null   float64            \n",
            " 31  quoted_status_id_str       2526 non-null   float64            \n",
            " 32  quoted_status              2526 non-null   object             \n",
            " 33  quoted_status_permalink    2526 non-null   object             \n",
            " 34  extended_tweet             3227 non-null   object             \n",
            " 35  display_text_range         3991 non-null   object             \n",
            " 36  0                          0 non-null      float64            \n",
            " 37  display_text_range         3227 non-null   object             \n",
            " 38  entities                   3227 non-null   object             \n",
            " 39  extended_entities          754 non-null    object             \n",
            " 40  full_text                  3227 non-null   object             \n",
            " 41  tweets_text                21065 non-null  object             \n",
            "dtypes: bool(4), datetime64[ns, UTC](1), datetime64[ns](1), float64(9), int64(6), object(21)\n",
            "memory usage: 6.3+ MB\n"
          ]
        }
      ]
    },
    {
      "cell_type": "code",
      "source": [
        "# making a list of the values under the attribute \"tweets_text\"\n",
        "tweet_list = Final_Data['tweets_text'].tolist()"
      ],
      "metadata": {
        "id": "8JSUyXuIROk_"
      },
      "execution_count": null,
      "outputs": []
    },
    {
      "cell_type": "code",
      "source": [
        "google_list = []\n",
        "amazon_list = []\n",
        "apple_list = []\n",
        "unclassified = []"
      ],
      "metadata": {
        "id": "VaC2h0yiRSBx"
      },
      "execution_count": null,
      "outputs": []
    },
    {
      "cell_type": "code",
      "source": [
        "# below snippet classifies the list formed above into four lists according to the keywords found in the tweets.\n",
        "\n",
        "def word_in_text(word, text):\n",
        "    word=word.lower()\n",
        "    text=text.lower()\n",
        "    match=re.search(word, text)\n",
        "    if(match):\n",
        "        return 1\n",
        "    else:\n",
        "        return 0\n",
        "\n",
        "def tweet_classification(textoftweets):\n",
        "    for text in textoftweets:\n",
        "        if word_in_text('google', text)==1 or word_in_text('google assistant', text)==1 or word_in_text('google nest', text)==1:\n",
        "            google_list.append(text)\n",
        "        elif word_in_text('apple', text)==1 or word_in_text('siri', text)==1 or word_in_text('home pod', text)==1:\n",
        "            apple_list.append(text)\n",
        "        elif word_in_text('amazon', text)==1 or word_in_text('alexa', text)==1 or word_in_text('Amazon Echo', text)==1 or word_in_text('Echo', text)==1:\n",
        "            amazon_list.append(text)\n",
        "        else:\n",
        "            unclassified.append(text)\n",
        "\n",
        "tweet_classification(tweet_list)\n"
      ],
      "metadata": {
        "id": "UHew4Wq5Rfsn"
      },
      "execution_count": null,
      "outputs": []
    },
    {
      "cell_type": "code",
      "source": [
        "# importing vader for sentiment analysis\n",
        "!pip install vaderSentiment\n",
        "from vaderSentiment.vaderSentiment import SentimentIntensityAnalyzer as se"
      ],
      "metadata": {
        "colab": {
          "base_uri": "https://localhost:8080/"
        },
        "id": "8n7zPljFRuwu",
        "outputId": "1022de8f-b834-43ff-f584-74cb72e5f202"
      },
      "execution_count": null,
      "outputs": [
        {
          "output_type": "stream",
          "name": "stdout",
          "text": [
            "Looking in indexes: https://pypi.org/simple, https://us-python.pkg.dev/colab-wheels/public/simple/\n",
            "Collecting vaderSentiment\n",
            "  Downloading vaderSentiment-3.3.2-py2.py3-none-any.whl (125 kB)\n",
            "\u001b[K     |████████████████████████████████| 125 kB 7.1 MB/s \n",
            "\u001b[?25hRequirement already satisfied: requests in /usr/local/lib/python3.7/dist-packages (from vaderSentiment) (2.23.0)\n",
            "Requirement already satisfied: urllib3!=1.25.0,!=1.25.1,<1.26,>=1.21.1 in /usr/local/lib/python3.7/dist-packages (from requests->vaderSentiment) (1.24.3)\n",
            "Requirement already satisfied: certifi>=2017.4.17 in /usr/local/lib/python3.7/dist-packages (from requests->vaderSentiment) (2022.5.18.1)\n",
            "Requirement already satisfied: chardet<4,>=3.0.2 in /usr/local/lib/python3.7/dist-packages (from requests->vaderSentiment) (3.0.4)\n",
            "Requirement already satisfied: idna<3,>=2.5 in /usr/local/lib/python3.7/dist-packages (from requests->vaderSentiment) (2.10)\n",
            "Installing collected packages: vaderSentiment\n",
            "Successfully installed vaderSentiment-3.3.2\n"
          ]
        }
      ]
    },
    {
      "cell_type": "code",
      "source": [
        "# creating an object of the sentimentIntensityAnalyser class\n",
        "sid = se()\n",
        "\n",
        "# below snippet passes each string(tweet) in the list to the \"polarity_score\" function\n",
        "# and append the result in a dataframe which is later returned by the funtions\n",
        "def Sentiment_scores_df(tweetsarray,company_name):\n",
        "    senti={}\n",
        "    for tweet in tweetsarray:\n",
        "         m=sid.polarity_scores(tweet)\n",
        "         senti[tweet]=m\n",
        "    df=pd.DataFrame.from_dict(senti,orient='index',columns=['neg','neu','pos','compound'])\n",
        "    df['company']=company_name\n",
        "    return df\n",
        "\n",
        "# creating three dataframes for the three companies under consideration\n",
        "Google=Sentiment_scores_df(google_list,'Google')\n",
        "Amazon=Sentiment_scores_df(amazon_list,'Amazon')\n",
        "Apple=Sentiment_scores_df(apple_list,'Apple')"
      ],
      "metadata": {
        "id": "vB6MAtcER45E"
      },
      "execution_count": null,
      "outputs": []
    },
    {
      "cell_type": "code",
      "source": [
        "print(Google.iloc[78])"
      ],
      "metadata": {
        "colab": {
          "base_uri": "https://localhost:8080/"
        },
        "id": "86pPT0n7EWv3",
        "outputId": "1989f7c7-5e59-4bce-99eb-a080fd1b8aee"
      },
      "execution_count": null,
      "outputs": [
        {
          "output_type": "stream",
          "name": "stdout",
          "text": [
            "neg            0.0\n",
            "neu          0.648\n",
            "pos          0.352\n",
            "compound     0.765\n",
            "company     Google\n",
            "Name: @GraniteBoyo6 we say please and thank you to google, siri, and alexa in this house lol nan, dtype: object\n"
          ]
        }
      ]
    },
    {
      "cell_type": "markdown",
      "source": [
        "### Next we calculate some statistical mesures like mean and median on the \"pos\", \"neg\", \"neu\" and \"compound\" attributes of the dataframes formed above and compare them to analyse the results"
      ],
      "metadata": {
        "id": "EPBH3g2blzCX"
      }
    },
    {
      "cell_type": "code",
      "source": [
        "google_median_pos_score=Google['pos'].median()\n",
        "print(google_median_pos_score)\n",
        "\n",
        "amazon_median_pos_score=Amazon['pos'].median()\n",
        "print(amazon_median_pos_score)\n",
        "\n",
        "\n",
        "apple_median_pos_score=Apple['pos'].median()\n",
        "print(apple_median_pos_score)"
      ],
      "metadata": {
        "colab": {
          "base_uri": "https://localhost:8080/"
        },
        "id": "UrFXUvY8R-48",
        "outputId": "08d50a4c-b951-4371-c8bf-3475cf9f1efc"
      },
      "execution_count": null,
      "outputs": [
        {
          "output_type": "stream",
          "name": "stdout",
          "text": [
            "0.049\n",
            "0.1145\n",
            "0.0\n"
          ]
        }
      ]
    },
    {
      "cell_type": "code",
      "source": [
        "apple_mean_pos_score=Apple['pos'].mean()\n",
        "print(apple_mean_pos_score)\n",
        "\n",
        "google_mean_pos_score=Google['pos'].mean()\n",
        "print(google_mean_pos_score)\n",
        "\n",
        "amazon_mean_pos_score=Amazon['pos'].mean()\n",
        "print(amazon_mean_pos_score)\n"
      ],
      "metadata": {
        "colab": {
          "base_uri": "https://localhost:8080/"
        },
        "id": "yOMYlz2qSC6V",
        "outputId": "fd70ed93-756c-4481-acdd-b121f8f739af"
      },
      "execution_count": null,
      "outputs": [
        {
          "output_type": "stream",
          "name": "stdout",
          "text": [
            "0.08608367933567546\n",
            "0.07514127423822706\n",
            "0.14377128659682994\n"
          ]
        }
      ]
    },
    {
      "cell_type": "code",
      "source": [
        "apple_mean_compound_score=Apple['compound'].mean()\n",
        "print(apple_mean_compound_score)\n",
        "\n",
        "\n",
        "google_mean_compound_score=Google['compound'].mean()\n",
        "print(google_mean_compound_score)\n",
        "\n",
        "\n",
        "amazon_mean_compound_score=Amazon['compound'].mean()\n",
        "print(amazon_mean_compound_score)\n"
      ],
      "metadata": {
        "colab": {
          "base_uri": "https://localhost:8080/"
        },
        "id": "EIiokX5LSGjk",
        "outputId": "6728bbe1-750c-4a35-d23a-587169296379"
      },
      "execution_count": null,
      "outputs": [
        {
          "output_type": "stream",
          "name": "stdout",
          "text": [
            "0.11430833599488961\n",
            "0.23315373961218866\n",
            "0.25039063926940225\n"
          ]
        }
      ]
    },
    {
      "cell_type": "code",
      "source": [
        "apple_median_compound_score=Apple['compound'].median()\n",
        "print(apple_median_compound_score)\n",
        "\n",
        "\n",
        "google_median_compound_score=Google['compound'].median()\n",
        "print(google_median_compound_score)\n",
        "\n",
        "\n",
        "amazon_median_compound_score=Amazon['compound'].median()\n",
        "print(amazon_median_compound_score)\n"
      ],
      "metadata": {
        "colab": {
          "base_uri": "https://localhost:8080/"
        },
        "id": "WIIwl1ERSKu9",
        "outputId": "426281ea-aa04-4250-f811-c3f49fc40ae0"
      },
      "execution_count": null,
      "outputs": [
        {
          "output_type": "stream",
          "name": "stdout",
          "text": [
            "0.0\n",
            "0.14055\n",
            "0.2023\n"
          ]
        }
      ]
    },
    {
      "cell_type": "code",
      "source": [
        "amazon_median_neg_score=Amazon['neg'].median()\n",
        "print(amazon_median_neg_score)\n",
        "\n",
        "\n",
        "apple_median_neg_score=Apple['neg'].median()\n",
        "print(apple_median_neg_score)\n",
        "\n",
        "google_median_neg_score=Google['neg'].median()\n",
        "print(google_median_neg_score)\n"
      ],
      "metadata": {
        "colab": {
          "base_uri": "https://localhost:8080/"
        },
        "id": "S-6LraluSO9y",
        "outputId": "3bf64614-b31c-48c7-89bf-231391fd7bcf"
      },
      "execution_count": null,
      "outputs": [
        {
          "output_type": "stream",
          "name": "stdout",
          "text": [
            "0.0\n",
            "0.0\n",
            "0.0\n"
          ]
        }
      ]
    },
    {
      "cell_type": "code",
      "source": [
        "amazon_mean_neg_score=Amazon['neg'].mean()\n",
        "print(amazon_mean_neg_score)\n",
        "\n",
        "\n",
        "apple_mean_neg_score=Apple['neg'].mean()\n",
        "print(apple_mean_neg_score)\n",
        "\n",
        "\n",
        "google_mean_neg_score=Google['neg'].mean()\n",
        "print(google_mean_neg_score)\n",
        "\n"
      ],
      "metadata": {
        "colab": {
          "base_uri": "https://localhost:8080/"
        },
        "id": "xbkF1pu9STCZ",
        "outputId": "239c3ba5-9a7f-4d4d-99da-544b08845df5"
      },
      "execution_count": null,
      "outputs": [
        {
          "output_type": "stream",
          "name": "stdout",
          "text": [
            "0.039024845554660265\n",
            "0.03924369211114652\n",
            "0.019662049861495848\n"
          ]
        }
      ]
    },
    {
      "cell_type": "code",
      "source": [
        "amazon_median_neu_score=Amazon['neu'].median()\n",
        "print(amazon_median_neu_score)\n",
        "\n",
        "\n",
        "apple_median_neu_score=Apple['neu'].median()\n",
        "print(apple_median_neu_score)\n",
        "\n",
        "\n",
        "google_median_neu_score=Google['neu'].median()\n",
        "print(google_median_neu_score)\n"
      ],
      "metadata": {
        "colab": {
          "base_uri": "https://localhost:8080/"
        },
        "id": "kvv1KSGTSaCA",
        "outputId": "4d231d25-427c-4364-dae0-811ca3f91799"
      },
      "execution_count": null,
      "outputs": [
        {
          "output_type": "stream",
          "name": "stdout",
          "text": [
            "0.834\n",
            "1.0\n",
            "0.93\n"
          ]
        }
      ]
    },
    {
      "cell_type": "code",
      "source": [
        "amazon_mean_neu_score=Amazon['neu'].mean()\n",
        "print(amazon_mean_neu_score)\n",
        "\n",
        "\n",
        "apple_mean_neu_score=Apple['neu'].mean()\n",
        "print(apple_mean_neu_score)\n",
        "\n",
        "\n",
        "google_mean_neu_score=Google['neu'].mean()\n",
        "print(google_mean_neu_score)\n"
      ],
      "metadata": {
        "colab": {
          "base_uri": "https://localhost:8080/"
        },
        "id": "kTkTW6gsSmYx",
        "outputId": "ae79cf25-adda-49fb-fdeb-27ff1167eaa3"
      },
      "execution_count": null,
      "outputs": [
        {
          "output_type": "stream",
          "name": "stdout",
          "text": [
            "0.8172045393499834\n",
            "0.8746748642606186\n",
            "0.9051939058171742\n"
          ]
        }
      ]
    },
    {
      "cell_type": "markdown",
      "source": [
        "### Next we plot graphs to easily understand the comaprison of the score assinged to tweets by our sentiment analyzer"
      ],
      "metadata": {
        "id": "ZEnusAJnm2RI"
      }
    },
    {
      "cell_type": "code",
      "source": [
        "def addlabels(x,y):\n",
        "    for i in range(len(x)):\n",
        "        plt.text(i,y[i],y[i])\n",
        "company_xaxis=['Google','Amazon','Apple']\n",
        "mean_pos_yaxis=[round(google_mean_pos_score,2),round(amazon_mean_pos_score,2),round(apple_mean_pos_score,2)]\n",
        "plt.bar(company_xaxis,mean_pos_yaxis,color=['orange','green','blue'])\n",
        "addlabels(company_xaxis,mean_pos_yaxis)\n",
        "plt.title('Company vs mean positive score')\n",
        "plt.xlabel('Company')\n",
        "plt.ylabel('Mean positive score')\n",
        "plt.show()\n"
      ],
      "metadata": {
        "colab": {
          "base_uri": "https://localhost:8080/",
          "height": 295
        },
        "id": "90NxHNIcSrnk",
        "outputId": "82156962-187c-4b55-d7f2-b8fefc0a3e6a"
      },
      "execution_count": null,
      "outputs": [
        {
          "output_type": "display_data",
          "data": {
            "text/plain": [
              "<Figure size 432x288 with 1 Axes>"
            ],
            "image/png": "[encoded data removed]"
          },
          "metadata": {
            "needs_background": "light"
          }
        }
      ]
    },
    {
      "cell_type": "code",
      "source": [
        "mean_neg_yaxis=[round(google_mean_neg_score,2),round(amazon_mean_neg_score,2),round(apple_mean_neg_score,2)]\n",
        "plt.bar(company_xaxis,mean_neg_yaxis,color=['orange','green','blue'])\n",
        "addlabels(company_xaxis,mean_neg_yaxis)\n",
        "plt.title('Company vs mean negative score')\n",
        "plt.xlabel('Company')\n",
        "plt.ylabel('Mean negative score')\n",
        "plt.show()"
      ],
      "metadata": {
        "colab": {
          "base_uri": "https://localhost:8080/",
          "height": 295
        },
        "id": "ijkbY1zySv1w",
        "outputId": "88ff9971-62ac-4b56-dfab-b6e9a224e527"
      },
      "execution_count": null,
      "outputs": [
        {
          "output_type": "display_data",
          "data": {
            "text/plain": [
              "<Figure size 432x288 with 1 Axes>"
            ],
            "image/png": "[encoded data removed]"
          },
          "metadata": {
            "needs_background": "light"
          }
        }
      ]
    },
    {
      "cell_type": "code",
      "source": [
        "mean_neu_yaxis=[round(google_mean_neu_score,2),round(amazon_mean_neu_score,2),round(apple_mean_neu_score,2)]\n",
        "plt.bar(company_xaxis,mean_neu_yaxis,color=['orange','green','blue'])\n",
        "addlabels(company_xaxis,mean_neu_yaxis)\n",
        "plt.title('Company vs mean neutral score')\n",
        "plt.xlabel('Company')\n",
        "plt.ylabel('Mean neutral score')\n",
        "plt.show()\n"
      ],
      "metadata": {
        "colab": {
          "base_uri": "https://localhost:8080/",
          "height": 295
        },
        "id": "HEi4XtSeSyWB",
        "outputId": "80f23a16-a405-485a-a7ae-e632c8e5b40d"
      },
      "execution_count": null,
      "outputs": [
        {
          "output_type": "display_data",
          "data": {
            "text/plain": [
              "<Figure size 432x288 with 1 Axes>"
            ],
            "image/png": "[encoded data removed]"
          },
          "metadata": {
            "needs_background": "light"
          }
        }
      ]
    },
    {
      "cell_type": "code",
      "source": [
        "mean_compound_yaxis=[round(google_mean_compound_score,2),round(amazon_mean_compound_score,2),round(apple_mean_compound_score,2)]\n",
        "plt.bar(company_xaxis,mean_compound_yaxis,color=['orange','green','blue'])\n",
        "addlabels(company_xaxis,mean_compound_yaxis)\n",
        "plt.title('Company vs mean compound score')\n",
        "plt.xlabel('Company')\n",
        "plt.ylabel('Mean compound score')\n",
        "plt.show()\n",
        "\n"
      ],
      "metadata": {
        "colab": {
          "base_uri": "https://localhost:8080/",
          "height": 295
        },
        "id": "1J9RHOA7S5IE",
        "outputId": "e7f82707-5801-45ea-9eed-b49e38315b50"
      },
      "execution_count": null,
      "outputs": [
        {
          "output_type": "display_data",
          "data": {
            "text/plain": [
              "<Figure size 432x288 with 1 Axes>"
            ],
            "image/png": "[encoded data removed]"
          },
          "metadata": {
            "needs_background": "light"
          }
        }
      ]
    },
    {
      "cell_type": "markdown",
      "source": [
        "### Next we plot the number of tweets against the country name from where tweets were posted. This analysis gives us a rough idea of in which country these products are most popular. Later we plot top 5 countries as well\n",
        "\n",
        "Please note that the total number of tweets with the place information is under 150. That is, not all 21000 tweets have the place information. So the accuracy of this analysis is limited."
      ],
      "metadata": {
        "id": "4bU_c3FuGKei"
      }
    },
    {
      "cell_type": "code",
      "source": [
        "# removing df7 as because of a technical glitch while\n",
        "# collecting data the values of place variable in it are all blank and not in right format\n",
        "# they are all nan which is distrupting the entire process of plotting below\n",
        "# graph when combined with rest 15 dataframes.\n",
        "\n",
        "# creating new final data with no df7\n",
        "Final_Data_New = Final_Data = pd.concat([df1, df2, df3,df4, df5, df6, df8, df9,df10, df11, df12,df13, df14, df15, df16])\n",
        "Place_list=Final_Data_New['place'].tolist()\n",
        "res = list(filter(None, Place_list))\n",
        "# print(res)\n",
        "# print(type(res[0]))\n",
        "# print(len(res))\n",
        "#Place_list\n",
        "#print(res[0]['country'])\n",
        "\n",
        "country_list = []\n",
        "\n",
        "for place in res:\n",
        "  # print(type(place))\n",
        "  country_list.append(place['country'])\n",
        "\n",
        "counter = collections.Counter(country_list)\n",
        "print(counter)\n",
        "\n",
        "\n",
        "# merging the counts for those countries which occur more than once in the dataset with different spellings\n",
        "counter['España']=counter['España'] + counter['Spain']\n",
        "counter['España']=counter['España'] + counter['Espanya']\n",
        "# print(counter['Espanya'])\n",
        "del counter['Spain']\n",
        "del counter['Espanya']\n",
        "counter['Francia']=counter['Francia'] + counter['France']\n",
        "del counter['France']\n",
        "# print(counter['Francia'])\n",
        "# Česká republika\n",
        "counter['Česká republika']=counter['Česká republika'] + counter['Czech Republic']\n",
        "del counter['Czech Republic']\n",
        "# print(counter['Francia'])\n",
        "\n",
        "# next two lines are for giving different bars different colours\n",
        "cmap = plt.cm.tab10\n",
        "colors = cmap(np.arange(len(counter)) % cmap.N)\n",
        "\n",
        "plt.xticks(rotation='vertical')\n",
        "plt.bar(counter.keys(), counter.values(), color=colors)\n",
        "plt.title(\"Number of Tweets vs Country of origin\")\n",
        "plt.ylabel('Number of Tweets')\n",
        "plt.show()\n"
      ],
      "metadata": {
        "colab": {
          "base_uri": "https://localhost:8080/",
          "height": 579
        },
        "id": "MfVLkI4Vup1l",
        "outputId": "b21d244c-64bb-46eb-aabb-fea3734ef428"
      },
      "execution_count": null,
      "outputs": [
        {
          "output_type": "stream",
          "name": "stdout",
          "text": [
            "Counter({'United States': 58, 'United Kingdom': 24, 'Brasil': 16, 'India': 6, 'Malaysia': 4, 'España': 3, 'México': 3, 'Canada': 3, 'Australia': 3, 'Taiwan': 2, 'Tanzania': 2, 'Venezuela': 2, 'Republic of the Philippines': 2, 'Kenya': 2, '日本': 2, 'Italia': 2, 'France': 2, 'Nederland': 1, 'Francia': 1, 'Türkiye': 1, 'Germany': 1, 'Ukraine': 1, 'Czech Republic': 1, 'ישראל': 1, 'Deutschland': 1, 'Espanya': 1, 'Brazil': 1, 'Paraguay': 1, 'Colombia': 1, 'Spain': 1, 'Costa Rica': 1, 'Portugal': 1, 'Argentina': 1, 'Indonesia': 1, 'Sweden': 1, 'Česká republika': 1, 'Suomi': 1})\n"
          ]
        },
        {
          "output_type": "stream",
          "name": "stderr",
          "text": [
            "/usr/local/lib/python3.7/dist-packages/matplotlib/backends/backend_agg.py:214: RuntimeWarning: Glyph 26085 missing from current font.\n",
            "  font.set_text(s, 0.0, flags=flags)\n",
            "/usr/local/lib/python3.7/dist-packages/matplotlib/backends/backend_agg.py:214: RuntimeWarning: Glyph 26412 missing from current font.\n",
            "  font.set_text(s, 0.0, flags=flags)\n",
            "/usr/local/lib/python3.7/dist-packages/matplotlib/backends/backend_agg.py:183: RuntimeWarning: Glyph 26085 missing from current font.\n",
            "  font.set_text(s, 0, flags=flags)\n",
            "/usr/local/lib/python3.7/dist-packages/matplotlib/backends/backend_agg.py:183: RuntimeWarning: Glyph 26412 missing from current font.\n",
            "  font.set_text(s, 0, flags=flags)\n"
          ]
        },
        {
          "output_type": "display_data",
          "data": {
            "text/plain": [
              "<Figure size 432x288 with 1 Axes>"
            ],
            "image/png": "[encoded data removed]"
          },
          "metadata": {
            "needs_background": "light"
          }
        }
      ]
    },
    {
      "cell_type": "code",
      "source": [
        "# Plotting top 5 countries\n",
        "\n",
        "top5 = counter.most_common(5)\n",
        "for i in top5:\n",
        "  print(i[0],\" :\",i[1],\" \")\n",
        "\n",
        "# for converting a list of tuples into dictionay\n",
        "def Convert(tup, di):\n",
        "  di = dict(tup)\n",
        "  return di\n",
        "\n",
        "Top5Dict= {}\n",
        "Top5Dict=Convert(top5,Top5Dict)\n",
        "\n",
        "print(type(top5[0]))\n",
        "print(Top5Dict)\n",
        "\n",
        "cmap = plt.cm.tab10\n",
        "colors = cmap(np.arange(len(Top5Dict)) % cmap.N)\n",
        "plt.xticks(rotation='vertical')\n",
        "plt.bar(Top5Dict.keys(), Top5Dict.values(), color=colors)\n",
        "# addlabels(Top5Dict.keys(),Top5Dict.values())\n",
        "plt.title(\"Number of Tweets vs Top 5 Country of origin\")\n",
        "plt.ylabel('Number of Tweets')\n",
        "plt.show()"
      ],
      "metadata": {
        "colab": {
          "base_uri": "https://localhost:8080/",
          "height": 473
        },
        "id": "C6B4SSEK-dve",
        "outputId": "6345ff61-0907-4acc-d94c-cfc4e65a46fc"
      },
      "execution_count": null,
      "outputs": [
        {
          "output_type": "stream",
          "name": "stdout",
          "text": [
            "United States  : 58  \n",
            "United Kingdom  : 24  \n",
            "Brasil  : 16  \n",
            "India  : 6  \n",
            "España  : 5  \n",
            "<class 'tuple'>\n",
            "{'United States': 58, 'United Kingdom': 24, 'Brasil': 16, 'India': 6, 'España': 5}\n"
          ]
        },
        {
          "output_type": "display_data",
          "data": {
            "text/plain": [
              "<Figure size 432x288 with 1 Axes>"
            ],
            "image/png": "[encoded data removed]"
          },
          "metadata": {
            "needs_background": "light"
          }
        }
      ]
    },
    {
      "cell_type": "code",
      "source": [
        "import nltk\n",
        "nltk.download('vader_lexicon')\n",
        "from nltk.sentiment.vader import SentimentIntensityAnalyzer\n",
        "\n",
        "sid = SentimentIntensityAnalyzer()\n",
        "\n",
        "a = 'This was a good movie.'\n",
        "print(sid.polarity_scores(a))\n",
        "\n",
        "a = 'This was the best, most awesome movie EVER MADE!!!'\n",
        "print(sid.polarity_scores(a))\n",
        "\n",
        "a= 'I hate the feeling of loneliness'\n",
        "print(sid.polarity_scores(a))"
      ],
      "metadata": {
        "colab": {
          "base_uri": "https://localhost:8080/"
        },
        "id": "l0lt1OIm8yBH",
        "outputId": "f833b86a-45db-4513-e668-fb2540b1435c"
      },
      "execution_count": null,
      "outputs": [
        {
          "output_type": "stream",
          "name": "stdout",
          "text": [
            "[nltk_data] Downloading package vader_lexicon to /root/nltk_data...\n",
            "{'neg': 0.0, 'neu': 0.508, 'pos': 0.492, 'compound': 0.4404}\n",
            "{'neg': 0.0, 'neu': 0.425, 'pos': 0.575, 'compound': 0.8877}\n",
            "{'neg': 0.65, 'neu': 0.2, 'pos': 0.15, 'compound': -0.7184}\n"
          ]
        },
        {
          "output_type": "stream",
          "name": "stderr",
          "text": [
            "/usr/local/lib/python3.7/dist-packages/nltk/twitter/__init__.py:20: UserWarning: The twython library has not been installed. Some functionality from the twitter package will not be available.\n",
            "  warnings.warn(\"The twython library has not been installed. \"\n"
          ]
        }
      ]
    }
  ]
}